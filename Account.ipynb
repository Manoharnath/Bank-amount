{
  "nbformat": 4,
  "nbformat_minor": 0,
  "metadata": {
    "colab": {
      "provenance": [],
      "authorship_tag": "ABX9TyNHPLbwOZa05MPcjH5tuaH6",
      "include_colab_link": true
    },
    "kernelspec": {
      "name": "python3",
      "display_name": "Python 3"
    },
    "language_info": {
      "name": "python"
    }
  },
  "cells": [
    {
      "cell_type": "markdown",
      "metadata": {
        "id": "view-in-github",
        "colab_type": "text"
      },
      "source": [
        "<a href=\"https://colab.research.google.com/github/Manoharnath/Bank-amount/blob/main/Account.ipynb\" target=\"_parent\"><img src=\"https://colab.research.google.com/assets/colab-badge.svg\" alt=\"Open In Colab\"/></a>"
      ]
    },
    {
      "cell_type": "code",
      "execution_count": 4,
      "metadata": {
        "colab": {
          "base_uri": "https://localhost:8080/"
        },
        "id": "Eg7g1wSe2LOG",
        "outputId": "cbcaf9c6-0757-48f1-8857-a31c0a2b9f3f"
      },
      "outputs": [
        {
          "output_type": "stream",
          "name": "stdout",
          "text": [
            "log_message=D:100 W:10\n",
            "90\n"
          ]
        }
      ],
      "source": [
        "T_Dpt=0\n",
        "T_W=0\n",
        "count=0\n",
        "Temp_deposit=\"\"\n",
        "Temp_Withdraw=\"\"\n",
        "\n",
        "log_message=input(\"log_message=\")\n",
        "for i in log_message:\n",
        "    if i=='D':\n",
        "        D=log_message[count+2:]\n",
        "        for dep in D:\n",
        "            if dep!=':' and dep!=' ':\n",
        "                Temp_deposit=Temp_deposit+dep\n",
        "            else:\n",
        "                break\n",
        "        T_Dpt=T_Dpt+int(Temp_deposit)\n",
        "        Temp_deposit=\"\"\n",
        "    elif i=='W':\n",
        "        W=log_message[count+2:]\n",
        "        for WD in W:\n",
        "            if WD!=':' and WD!=' ':\n",
        "                Temp_Withdraw=Temp_Withdraw+WD\n",
        "            else:\n",
        "                break\n",
        "        T_W=T_W+int(Temp_Withdraw)\n",
        "        Temp_Withdraw=\"\"\n",
        "    count+=1\n",
        "print(T_Dpt-T_W)"
      ]
    },
    {
      "cell_type": "markdown",
      "source": [],
      "metadata": {
        "id": "55GBFsjb3TdG"
      }
    },
    {
      "cell_type": "code",
      "source": [
        "T_Dpt=0\n",
        "T_W=0\n",
        "count=0\n",
        "Temp_deposit=\"\"\n",
        "Temp_Withdraw=\"\"\n",
        "\n",
        "log_message=input(\"log_message=\")\n",
        "for i in log_message:\n",
        "    if i=='D':\n",
        "        D=log_message[count+2:]\n",
        "        for dep in D:\n",
        "            if dep!=':' and dep!=' ':\n",
        "                Temp_deposit=Temp_deposit+dep\n",
        "            else:\n",
        "                break\n",
        "        T_Dpt=T_Dpt+int(Temp_deposit)\n",
        "        Temp_deposit=\"\"\n",
        "    elif i=='W':\n",
        "        W=log_message[count+2:]\n",
        "        for WD in W:\n",
        "            if WD!=':' and WD!=' ':\n",
        "                Temp_Withdraw=Temp_Withdraw+WD\n",
        "            else:\n",
        "                break\n",
        "        T_W=T_W+int(Temp_Withdraw)\n",
        "        Temp_Withdraw=\"\"\n",
        "    count+=1\n",
        "print(T_Dpt-T_W)"
      ],
      "metadata": {
        "colab": {
          "base_uri": "https://localhost:8080/"
        },
        "id": "Hs2FgsNJ3UXi",
        "outputId": "bed48119-9145-4a78-e189-acce380aea8b"
      },
      "execution_count": 5,
      "outputs": [
        {
          "output_type": "stream",
          "name": "stdout",
          "text": [
            "log_message=D:100 W:200 D:400\n",
            "300\n"
          ]
        }
      ]
    }
  ]
}